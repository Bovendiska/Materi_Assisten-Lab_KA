{
  "nbformat": 4,
  "nbformat_minor": 0,
  "metadata": {
    "colab": {
      "provenance": [],
      "gpuType": "T4",
      "toc_visible": true
    },
    "kernelspec": {
      "name": "python3",
      "display_name": "Python 3"
    },
    "language_info": {
      "name": "python"
    },
    "accelerator": "GPU"
  },
  "cells": [
    {
      "cell_type": "markdown",
      "source": [
        "# Library Yang Dibutuhkan"
      ],
      "metadata": {
        "id": "Aaw81a_dArfL"
      }
    },
    {
      "cell_type": "code",
      "execution_count": null,
      "metadata": {
        "id": "6LryQB2dv4dC"
      },
      "outputs": [],
      "source": [
        "# Import library\n",
        "import numpy as np\n",
        "import matplotlib.pyplot as plt\n",
        "import tensorflow as tf\n",
        "from tensorflow.keras.layers import Input, Dense\n",
        "from tensorflow.keras.models import Model"
      ]
    },
    {
      "cell_type": "markdown",
      "source": [
        "# Mengambil data mnist dari tf.keras"
      ],
      "metadata": {
        "id": "Gpbw_M80Av6H"
      }
    },
    {
      "cell_type": "code",
      "source": [
        "# Load data\n",
        "mnist = tf.keras.datasets.mnist\n",
        "\n",
        "# Load the training and test split of the MNIST dataset\n",
        "(training_images, training_labels), (test_images, test_labels) = mnist.load_data()"
      ],
      "metadata": {
        "id": "oppciKGDwIA2",
        "colab": {
          "base_uri": "https://localhost:8080/"
        },
        "outputId": "894b4cf1-aed0-43f7-fdd3-690cbbd1694f"
      },
      "execution_count": null,
      "outputs": [
        {
          "output_type": "stream",
          "name": "stdout",
          "text": [
            "Downloading data from https://storage.googleapis.com/tensorflow/tf-keras-datasets/mnist.npz\n",
            "11490434/11490434 [==============================] - 0s 0us/step\n"
          ]
        }
      ]
    },
    {
      "cell_type": "code",
      "source": [
        "train_shape = training_images.shape\n",
        "test_shape = test_images.shape\n",
        "\n",
        "print(f\"Terdapat {train_shape[0]} contoh dengan bentuk ({train_shape[1]}, {train_shape[2]}) pada data gambar latih\")\n",
        "print(f\"Terdapat {test_shape[0]} contoh dengan bentuk ({test_shape[1]}, {test_shape[2]}) pada data gambar uji\")"
      ],
      "metadata": {
        "id": "C-HJxbDIw77U",
        "colab": {
          "base_uri": "https://localhost:8080/"
        },
        "outputId": "d8e4517d-ac07-4f89-c232-7635ede8bdeb"
      },
      "execution_count": null,
      "outputs": [
        {
          "output_type": "stream",
          "name": "stdout",
          "text": [
            "Terdapat 60000 contoh dengan bentuk (28, 28) pada data gambar latih\n",
            "Terdapat 10000 contoh dengan bentuk (28, 28) pada data gambar uji\n"
          ]
        }
      ]
    },
    {
      "cell_type": "markdown",
      "source": [
        "# Data Preprarasion"
      ],
      "metadata": {
        "id": "SSYTQv_QA092"
      }
    },
    {
      "cell_type": "code",
      "source": [
        "# Normalisasi nilai piksel\n",
        "training_images = training_images / 255\n",
        "test_images = test_images / 255\n",
        "\n",
        "# Reshape\n",
        "training_images = np.reshape(training_images,\n",
        "                            (training_images.shape[0], 784))\n",
        "test_images = np.reshape(test_images,\n",
        "                        (test_images.shape[0], 784))"
      ],
      "metadata": {
        "id": "EaqZgO1hxDE5"
      },
      "execution_count": null,
      "outputs": []
    },
    {
      "cell_type": "markdown",
      "source": [
        "# Membangun Model"
      ],
      "metadata": {
        "id": "J-kwkghUBM5v"
      }
    },
    {
      "cell_type": "code",
      "source": [
        "inputs = Input(shape=(784,))\n",
        "h_encode = Dense(512, activation='relu')(inputs)\n",
        "h_encode = Dense(256, activation='relu')(h_encode)\n",
        "h_encode = Dense(128, activation='relu')(h_encode)\n",
        "h_encode = Dense(64, activation='relu')(h_encode)\n",
        "\n",
        "coded = Dense(32, activation='relu')(h_encode)\n",
        "\n",
        "h_decode = Dense(64, activation='relu')(coded)\n",
        "h_decode = Dense(128, activation='relu')(h_decode)\n",
        "h_decode = Dense(256, activation='relu')(h_decode)\n",
        "h_decode = Dense(512, activation='relu')(h_decode)\n",
        "\n",
        "outputs = Dense(784, activation='sigmoid')(h_decode)\n",
        "autoencoder = Model(inputs, outputs)"
      ],
      "metadata": {
        "id": "_R2vVqrnxISZ"
      },
      "execution_count": null,
      "outputs": []
    },
    {
      "cell_type": "code",
      "source": [
        "autoencoder.compile(optimizer='adam',\n",
        "                    loss='mean_squared_error',\n",
        "                    metrics=['mse'])\n",
        "autoencoder.fit(training_images, training_images,\n",
        "                epochs=10,\n",
        "                batch_size=100,\n",
        "                shuffle=True,\n",
        "                validation_data=(test_images, test_images))"
      ],
      "metadata": {
        "id": "wkF0ZQaBxZ89",
        "colab": {
          "base_uri": "https://localhost:8080/"
        },
        "outputId": "efa38e2e-ffc2-4349-be6c-e4832b53cfea"
      },
      "execution_count": null,
      "outputs": [
        {
          "output_type": "stream",
          "name": "stdout",
          "text": [
            "Epoch 1/10\n",
            "600/600 [==============================] - 17s 11ms/step - loss: 0.0435 - mse: 0.0435 - val_loss: 0.0255 - val_mse: 0.0255\n",
            "Epoch 2/10\n",
            "600/600 [==============================] - 5s 8ms/step - loss: 0.0221 - mse: 0.0221 - val_loss: 0.0193 - val_mse: 0.0193\n",
            "Epoch 3/10\n",
            "600/600 [==============================] - 3s 5ms/step - loss: 0.0181 - mse: 0.0181 - val_loss: 0.0165 - val_mse: 0.0165\n",
            "Epoch 4/10\n",
            "600/600 [==============================] - 3s 5ms/step - loss: 0.0156 - mse: 0.0156 - val_loss: 0.0145 - val_mse: 0.0145\n",
            "Epoch 5/10\n",
            "600/600 [==============================] - 4s 6ms/step - loss: 0.0139 - mse: 0.0139 - val_loss: 0.0132 - val_mse: 0.0132\n",
            "Epoch 6/10\n",
            "600/600 [==============================] - 3s 5ms/step - loss: 0.0129 - mse: 0.0129 - val_loss: 0.0125 - val_mse: 0.0125\n",
            "Epoch 7/10\n",
            "600/600 [==============================] - 3s 5ms/step - loss: 0.0121 - mse: 0.0121 - val_loss: 0.0121 - val_mse: 0.0121\n",
            "Epoch 8/10\n",
            "600/600 [==============================] - 3s 5ms/step - loss: 0.0115 - mse: 0.0115 - val_loss: 0.0114 - val_mse: 0.0114\n",
            "Epoch 9/10\n",
            "600/600 [==============================] - 4s 6ms/step - loss: 0.0109 - mse: 0.0109 - val_loss: 0.0107 - val_mse: 0.0107\n",
            "Epoch 10/10\n",
            "600/600 [==============================] - 3s 5ms/step - loss: 0.0104 - mse: 0.0104 - val_loss: 0.0104 - val_mse: 0.0104\n"
          ]
        },
        {
          "output_type": "execute_result",
          "data": {
            "text/plain": [
              "<keras.src.callbacks.History at 0x7f7ebe1abb50>"
            ]
          },
          "metadata": {},
          "execution_count": 6
        }
      ]
    },
    {
      "cell_type": "markdown",
      "source": [
        "# Prediksi dan Visualisasi"
      ],
      "metadata": {
        "id": "67vtQsHQBRCg"
      }
    },
    {
      "cell_type": "code",
      "source": [
        "predicted = autoencoder.predict(test_images)"
      ],
      "metadata": {
        "id": "HsT4OQ7-xcP6",
        "colab": {
          "base_uri": "https://localhost:8080/"
        },
        "outputId": "0fc0dbed-beda-48b5-94ea-8ef73bf2d75a"
      },
      "execution_count": null,
      "outputs": [
        {
          "output_type": "stream",
          "name": "stdout",
          "text": [
            "313/313 [==============================] - 1s 2ms/step\n"
          ]
        }
      ]
    },
    {
      "cell_type": "code",
      "source": [
        "n = 15\n",
        "plt.figure(figsize=(20,4))\n",
        "\n",
        "for i in range(n):\n",
        "  ax = plt.subplot(2, n, i+1)\n",
        "  plt.imshow(test_images[i].reshape(28, 28))\n",
        "  plt.gray()\n",
        "  ax.get_xaxis().set_visible(False)\n",
        "  ax.get_yaxis().set_visible(False)\n",
        "\n",
        "  ax = plt.subplot(2, n, i + 1 + n)\n",
        "  plt.imshow(predicted[i].reshape(28, 28), cmap='gray')\n",
        "  plt.gray()\n",
        "  ax.get_xaxis().set_visible(False)\n",
        "  ax.get_yaxis().set_visible(False)\n",
        "\n",
        "plt.show()"
      ],
      "metadata": {
        "id": "Z6lbpdQZxc90",
        "colab": {
          "base_uri": "https://localhost:8080/",
          "height": 212
        },
        "outputId": "59a067fa-50f7-4a17-9e51-82194c946c1f"
      },
      "execution_count": null,
      "outputs": [
        {
          "output_type": "display_data",
          "data": {
            "text/plain": [
              "<Figure size 2000x400 with 30 Axes>"
            ],
            "image/png": "[encoded data removed]"
          },
          "metadata": {}
        }
      ]
    },
    {
      "cell_type": "code",
      "source": [],
      "metadata": {
        "id": "jcOjaP8423Lu"
      },
      "execution_count": null,
      "outputs": []
    }
  ]
}